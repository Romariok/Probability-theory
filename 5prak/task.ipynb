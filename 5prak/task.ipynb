{
 "cells": [
  {
   "cell_type": "markdown",
   "metadata": {},
   "source": [
    "<h1>Практическая работа №5</h1>\n",
    "\n",
    "<h3>Вариант 12\n",
    "\n",
    "Выполнил студент группы P3212 Кобелев Роман</h3>"
   ]
  },
  {
   "cell_type": "code",
   "execution_count": 64,
   "metadata": {},
   "outputs": [],
   "source": [
    "import numpy as np\n",
    "import matplotlib.pyplot as plt"
   ]
  },
  {
   "cell_type": "markdown",
   "metadata": {},
   "source": [
    "<h2>Необходимо вычислить</h2>\n",
    "\n",
    "Вариационный ряд, экстремальные значения и размах, оценки математического\n",
    "ожидания и среднеквадратического отклонения, эмпирическую функцию распределения и её\n",
    "график, гистограмму и полигон приведенных частот группированной выборки"
   ]
  },
  {
   "cell_type": "markdown",
   "metadata": {},
   "source": [
    "<h1>Данные</h1>"
   ]
  },
  {
   "cell_type": "code",
   "execution_count": 65,
   "metadata": {},
   "outputs": [],
   "source": [
    "data = np.array([\n",
    "32, 105, 48, 80, 144, 128, 64, 112, 18, 81,\n",
    " 66, 129, 113, 17, 94, 78, 90, 51, 104, 34, \n",
    "110, 149, 36, 103, 82, 53, 93, 130, 68, 150, \n",
    "114, 84, 55, 131, 70, 38, 102, 77, 16, 135, \n",
    "41, 19, 142, 61, 85, 159, 115, 57, 72, 101, \n",
    "56, 100, 86, 146, 73, 40, 141, 25, 87, 126,\n",
    "151, 71, 94, 15, 125, 76, 54, 99, 39, 140, \n",
    "17, 124, 52, 98, 139, 37, 147, 88, 69, 109, \n",
    "35, 158, 67, 30, 93, 123, 50, 138, 21, 97,\n",
    "96, 121, 49, 137, 89, 145, 91, 65, 92, 33])\n",
    "\n"
   ]
  },
  {
   "cell_type": "markdown",
   "metadata": {},
   "source": [
    "<h1>Вариационный ряд</h1>"
   ]
  },
  {
   "cell_type": "code",
   "execution_count": 66,
   "metadata": {},
   "outputs": [
    {
     "name": "stdout",
     "output_type": "stream",
     "text": [
      "15 16 17 17 18 19 21 25 30 32 33 34 35 36 37 38 39 40 41 48 49 50 51 52 53 54 55 56 57 61 64 65 66 67 68 69 70 71 72 73 76 77 78 80 81 82 84 85 86 87 88 89 90 91 92 93 93 94 94 96 97 98 99 100 101 102 103 104 105 109 110 112 113 114 115 121 123 124 125 126 128 129 130 131 135 137 138 139 140 141 142 144 145 146 147 149 150 151 158 159\n"
     ]
    }
   ],
   "source": [
    "variation_series = np.sort(data)\n",
    "\n",
    "print(*variation_series)"
   ]
  },
  {
   "cell_type": "markdown",
   "metadata": {},
   "source": [
    "<h1>Экстремальные значения и размах</h1>"
   ]
  },
  {
   "cell_type": "code",
   "execution_count": 67,
   "metadata": {},
   "outputs": [
    {
     "name": "stdout",
     "output_type": "stream",
     "text": [
      "Максимальное значение:  159\n",
      "Минимальное значение:  15\n",
      "Размах:  144\n"
     ]
    }
   ],
   "source": [
    "max_value = np.max(data)\n",
    "min_value = np.min(data)\n",
    "spread = max_value - min_value\n",
    "\n",
    "print(\"Максимальное значение: \", max_value)\n",
    "print(\"Минимальное значение: \", min_value)\n",
    "print(\"Размах: \", spread)"
   ]
  },
  {
   "cell_type": "code",
   "execution_count": 74,
   "metadata": {},
   "outputs": [
    {
     "data": {
      "text/plain": [
       "16.0"
      ]
     },
     "execution_count": 74,
     "metadata": {},
     "output_type": "execute_result"
    }
   ],
   "source": [
    "144/9"
   ]
  },
  {
   "cell_type": "markdown",
   "metadata": {},
   "source": [
    "<h1>Математическое ожидание</h1>\n",
    "<h3>Статистичиский ряд</h3>"
   ]
  },
  {
   "cell_type": "code",
   "execution_count": 68,
   "metadata": {},
   "outputs": [
    {
     "name": "stdout",
     "output_type": "stream",
     "text": [
      "Статистический ряд: \n",
      " [[ 15   1]\n",
      " [ 16   1]\n",
      " [ 17   2]\n",
      " [ 18   1]\n",
      " [ 19   1]\n",
      " [ 21   1]\n",
      " [ 25   1]\n",
      " [ 30   1]\n",
      " [ 32   1]\n",
      " [ 33   1]\n",
      " [ 34   1]\n",
      " [ 35   1]\n",
      " [ 36   1]\n",
      " [ 37   1]\n",
      " [ 38   1]\n",
      " [ 39   1]\n",
      " [ 40   1]\n",
      " [ 41   1]\n",
      " [ 48   1]\n",
      " [ 49   1]\n",
      " [ 50   1]\n",
      " [ 51   1]\n",
      " [ 52   1]\n",
      " [ 53   1]\n",
      " [ 54   1]\n",
      " [ 55   1]\n",
      " [ 56   1]\n",
      " [ 57   1]\n",
      " [ 61   1]\n",
      " [ 64   1]\n",
      " [ 65   1]\n",
      " [ 66   1]\n",
      " [ 67   1]\n",
      " [ 68   1]\n",
      " [ 69   1]\n",
      " [ 70   1]\n",
      " [ 71   1]\n",
      " [ 72   1]\n",
      " [ 73   1]\n",
      " [ 76   1]\n",
      " [ 77   1]\n",
      " [ 78   1]\n",
      " [ 80   1]\n",
      " [ 81   1]\n",
      " [ 82   1]\n",
      " [ 84   1]\n",
      " [ 85   1]\n",
      " [ 86   1]\n",
      " [ 87   1]\n",
      " [ 88   1]\n",
      " [ 89   1]\n",
      " [ 90   1]\n",
      " [ 91   1]\n",
      " [ 92   1]\n",
      " [ 93   2]\n",
      " [ 94   2]\n",
      " [ 96   1]\n",
      " [ 97   1]\n",
      " [ 98   1]\n",
      " [ 99   1]\n",
      " [100   1]\n",
      " [101   1]\n",
      " [102   1]\n",
      " [103   1]\n",
      " [104   1]\n",
      " [105   1]\n",
      " [109   1]\n",
      " [110   1]\n",
      " [112   1]\n",
      " [113   1]\n",
      " [114   1]\n",
      " [115   1]\n",
      " [121   1]\n",
      " [123   1]\n",
      " [124   1]\n",
      " [125   1]\n",
      " [126   1]\n",
      " [128   1]\n",
      " [129   1]\n",
      " [130   1]\n",
      " [131   1]\n",
      " [135   1]\n",
      " [137   1]\n",
      " [138   1]\n",
      " [139   1]\n",
      " [140   1]\n",
      " [141   1]\n",
      " [142   1]\n",
      " [144   1]\n",
      " [145   1]\n",
      " [146   1]\n",
      " [147   1]\n",
      " [149   1]\n",
      " [150   1]\n",
      " [151   1]\n",
      " [158   1]\n",
      " [159   1]]\n"
     ]
    },
    {
     "data": {
      "text/plain": [
       "85.9"
      ]
     },
     "execution_count": 68,
     "metadata": {},
     "output_type": "execute_result"
    }
   ],
   "source": [
    "unique_elements, counts = np.unique(variation_series, return_counts=True)\n",
    "statistical_series = np.array([[key, value] for key, value in zip(unique_elements, counts)])\n",
    "\n",
    "mean = round(sum(x * n for x, n in statistical_series) / sum(n for _, n in statistical_series), 5)\n",
    "\n",
    "print(\"Статистический ряд: \\n\", statistical_series)\n",
    "mean\n"
   ]
  },
  {
   "cell_type": "markdown",
   "metadata": {},
   "source": [
    "<h1>Среднеквадратическое отклонение </h1>\n",
    "<h3>Выборочная дисперсия</h3>"
   ]
  },
  {
   "cell_type": "code",
   "execution_count": 69,
   "metadata": {},
   "outputs": [
    {
     "name": "stdout",
     "output_type": "stream",
     "text": [
      "Выборочная дисперсия:  1575.75\n",
      "Выборочное среднеквадратическое отклонение:  39.69572\n",
      "Исправленная выборочная дисперсия:  1591.66667\n",
      "Исправленное выборочное сдреднеквадратическое отклонение:  39.8957\n"
     ]
    }
   ],
   "source": [
    "dispersion = round(sum(((x-mean)**2) * n for x, n in statistical_series) / sum(n for _, n in statistical_series), 5  )\n",
    "standart_deviation = round(np.sqrt(dispersion),5)\n",
    "true_dispersion = round((len(data) * dispersion)/ (len(data) - 1), 5)\n",
    "true_standart_deviation = round(np.sqrt(true_dispersion), 5)\n",
    "\n",
    "print(\"Выборочная дисперсия: \", dispersion)\n",
    "print(\"Выборочное среднеквадратическое отклонение: \", standart_deviation)\n",
    "print(\"Исправленная выборочная дисперсия: \", true_dispersion)\n",
    "print(\"Исправленное выборочное сдреднеквадратическое отклонение: \", true_standart_deviation)\n",
    "\n",
    "\n"
   ]
  },
  {
   "cell_type": "markdown",
   "metadata": {},
   "source": [
    "<h1>Эмперическая функция распределения</h1>\n",
    "<h3>График</h3>"
   ]
  },
  {
   "cell_type": "code",
   "execution_count": 70,
   "metadata": {},
   "outputs": [],
   "source": [
    "def empirical_distribution_function(x):\n",
    "    freq = 0\n",
    "    for i in range(len(statistical_series)):\n",
    "        if statistical_series[i][0] >= x:\n",
    "            break\n",
    "        freq += statistical_series[i][1]\n",
    "    return freq / len(data)"
   ]
  },
  {
   "cell_type": "code",
   "execution_count": 71,
   "metadata": {},
   "outputs": [
    {
     "name": "stdout",
     "output_type": "stream",
     "text": [
      "F(x) = 0.0:\tx < 15\n",
      "F(x) = 0.010309278350515464:\t15 <= x < 16\n",
      "F(x) = 0.020618556701030927:\t16 <= x < 17\n",
      "F(x) = 0.041237113402061855:\t17 <= x < 18\n",
      "F(x) = 0.05154639175257732:\t18 <= x < 19\n",
      "F(x) = 0.061855670103092786:\t19 <= x < 21\n",
      "F(x) = 0.07216494845360824:\t21 <= x < 25\n",
      "F(x) = 0.08247422680412371:\t25 <= x < 30\n",
      "F(x) = 0.09278350515463918:\t30 <= x < 32\n",
      "F(x) = 0.10309278350515463:\t32 <= x < 33\n",
      "F(x) = 0.1134020618556701:\t33 <= x < 34\n",
      "F(x) = 0.12371134020618557:\t34 <= x < 35\n",
      "F(x) = 0.13402061855670103:\t35 <= x < 36\n",
      "F(x) = 0.14432989690721648:\t36 <= x < 37\n",
      "F(x) = 0.15463917525773196:\t37 <= x < 38\n",
      "F(x) = 0.16494845360824742:\t38 <= x < 39\n",
      "F(x) = 0.17525773195876287:\t39 <= x < 40\n",
      "F(x) = 0.18556701030927836:\t40 <= x < 41\n",
      "F(x) = 0.1958762886597938:\t41 <= x < 48\n",
      "F(x) = 0.20618556701030927:\t48 <= x < 49\n",
      "F(x) = 0.21649484536082475:\t49 <= x < 50\n",
      "F(x) = 0.2268041237113402:\t50 <= x < 51\n",
      "F(x) = 0.23711340206185566:\t51 <= x < 52\n",
      "F(x) = 0.24742268041237114:\t52 <= x < 53\n",
      "F(x) = 0.25773195876288657:\t53 <= x < 54\n",
      "F(x) = 0.26804123711340205:\t54 <= x < 55\n",
      "F(x) = 0.27835051546391754:\t55 <= x < 56\n",
      "F(x) = 0.28865979381443296:\t56 <= x < 57\n",
      "F(x) = 0.29896907216494845:\t57 <= x < 61\n",
      "F(x) = 0.30927835051546393:\t61 <= x < 64\n",
      "F(x) = 0.31958762886597936:\t64 <= x < 65\n",
      "F(x) = 0.32989690721649484:\t65 <= x < 66\n",
      "F(x) = 0.3402061855670103:\t66 <= x < 67\n",
      "F(x) = 0.35051546391752575:\t67 <= x < 68\n",
      "F(x) = 0.36082474226804123:\t68 <= x < 69\n",
      "F(x) = 0.3711340206185567:\t69 <= x < 70\n",
      "F(x) = 0.38144329896907214:\t70 <= x < 71\n",
      "F(x) = 0.3917525773195876:\t71 <= x < 72\n",
      "F(x) = 0.4020618556701031:\t72 <= x < 73\n",
      "F(x) = 0.41237113402061853:\t73 <= x < 76\n",
      "F(x) = 0.422680412371134:\t76 <= x < 77\n",
      "F(x) = 0.4329896907216495:\t77 <= x < 78\n",
      "F(x) = 0.44329896907216493:\t78 <= x < 80\n",
      "F(x) = 0.4536082474226804:\t80 <= x < 81\n",
      "F(x) = 0.4639175257731959:\t81 <= x < 82\n",
      "F(x) = 0.4742268041237113:\t82 <= x < 84\n",
      "F(x) = 0.4845360824742268:\t84 <= x < 85\n",
      "F(x) = 0.4948453608247423:\t85 <= x < 86\n",
      "F(x) = 0.5051546391752577:\t86 <= x < 87\n",
      "F(x) = 0.5154639175257731:\t87 <= x < 88\n",
      "F(x) = 0.5257731958762887:\t88 <= x < 89\n",
      "F(x) = 0.5360824742268041:\t89 <= x < 90\n",
      "F(x) = 0.5463917525773195:\t90 <= x < 91\n",
      "F(x) = 0.5567010309278351:\t91 <= x < 92\n",
      "F(x) = 0.5670103092783505:\t92 <= x < 93\n",
      "F(x) = 0.5876288659793815:\t93 <= x < 94\n",
      "F(x) = 0.6082474226804123:\t94 <= x < 96\n",
      "F(x) = 0.6185567010309279:\t96 <= x < 97\n",
      "F(x) = 0.6288659793814433:\t97 <= x < 98\n",
      "F(x) = 0.6391752577319587:\t98 <= x < 99\n",
      "F(x) = 0.6494845360824743:\t99 <= x < 100\n",
      "F(x) = 0.6597938144329897:\t100 <= x < 101\n",
      "F(x) = 0.6701030927835051:\t101 <= x < 102\n",
      "F(x) = 0.6804123711340206:\t102 <= x < 103\n",
      "F(x) = 0.6907216494845361:\t103 <= x < 104\n",
      "F(x) = 0.7010309278350515:\t104 <= x < 105\n",
      "F(x) = 0.711340206185567:\t105 <= x < 109\n",
      "F(x) = 0.7216494845360825:\t109 <= x < 110\n",
      "F(x) = 0.7319587628865979:\t110 <= x < 112\n",
      "F(x) = 0.7422680412371134:\t112 <= x < 113\n",
      "F(x) = 0.7525773195876289:\t113 <= x < 114\n",
      "F(x) = 0.7628865979381443:\t114 <= x < 115\n",
      "F(x) = 0.7731958762886598:\t115 <= x < 121\n",
      "F(x) = 0.7835051546391752:\t121 <= x < 123\n",
      "F(x) = 0.7938144329896907:\t123 <= x < 124\n",
      "F(x) = 0.8041237113402062:\t124 <= x < 125\n",
      "F(x) = 0.8144329896907216:\t125 <= x < 126\n",
      "F(x) = 0.8247422680412371:\t126 <= x < 128\n",
      "F(x) = 0.8350515463917526:\t128 <= x < 129\n",
      "F(x) = 0.845360824742268:\t129 <= x < 130\n",
      "F(x) = 0.8556701030927835:\t130 <= x < 131\n",
      "F(x) = 0.865979381443299:\t131 <= x < 135\n",
      "F(x) = 0.8762886597938144:\t135 <= x < 137\n",
      "F(x) = 0.8865979381443299:\t137 <= x < 138\n",
      "F(x) = 0.8969072164948454:\t138 <= x < 139\n",
      "F(x) = 0.9072164948453608:\t139 <= x < 140\n",
      "F(x) = 0.9175257731958762:\t140 <= x < 141\n",
      "F(x) = 0.9278350515463918:\t141 <= x < 142\n",
      "F(x) = 0.9381443298969072:\t142 <= x < 144\n",
      "F(x) = 0.9484536082474226:\t144 <= x < 145\n",
      "F(x) = 0.9587628865979382:\t145 <= x < 146\n",
      "F(x) = 0.9690721649484536:\t146 <= x < 147\n",
      "F(x) = 0.979381443298969:\t147 <= x < 149\n",
      "F(x) = 0.9896907216494846:\t149 <= x < 150\n",
      "F(x) = 1.0:\t150 <= x < 151\n",
      "F(x) = 1.0103092783505154:\t151 <= x < 158\n",
      "F(x) = 1.0206185567010309:\t158 <= x < 159\n",
      "F(x) = 1.0309278350515463:\t159 <= x\n"
     ]
    },
    {
     "data": {
      "image/png": "[encoded data removed]",
      "text/plain": [
       "<Figure size 640x480 with 1 Axes>"
      ]
     },
     "metadata": {},
     "output_type": "display_data"
    }
   ],
   "source": [
    "freq = 0\n",
    "print(f\"F(x) = {freq / len(statistical_series)}:\\tx < {statistical_series[0][0]}\")\n",
    "for i in range(len(statistical_series) - 1):\n",
    "    freq += statistical_series[i][1]\n",
    "    print(\n",
    "        f\"F(x) = {freq / len(statistical_series)}:\\t{statistical_series[i][0]} <= x < {statistical_series[i+1][0]}\")\n",
    "freq += statistical_series[-1][1]\n",
    "print(f\"F(x) = {freq / len(statistical_series)}:\\t{statistical_series[-1][0]} <= x\")\n",
    "\n",
    "x_values = np.linspace(min_value - 1, max_value + 1, 10000)\n",
    "ecdf_values = [empirical_distribution_function(x)\n",
    "                for x in x_values]\n",
    "plt.grid(which='both')\n",
    "plt.minorticks_on()\n",
    "plt.scatter(x_values, ecdf_values, marker='_', s=1)\n",
    "plt.xlabel('x', ha='right', x=1.0)\n",
    "plt.ylabel('F(x)', va='top', y=1.0)\n",
    "plt.gca().yaxis.set_label_coords(-0.03, 1.02)\n",
    "plt.gca().yaxis.get_label().set_rotation(0)\n",
    "plt.gca().xaxis.set_label_coords(1.02, 0)\n",
    "plt.title('Эмперическая функция распределения')\n",
    "\n",
    "plt.show()"
   ]
  },
  {
   "cell_type": "markdown",
   "metadata": {},
   "source": [
    "<h3>Гистограмма приведенных частот группированной выборки</h3>"
   ]
  },
  {
   "cell_type": "code",
   "execution_count": 72,
   "metadata": {},
   "outputs": [
    {
     "data": {
      "image/png": "[encoded data removed]",
      "text/plain": [
       "<Figure size 640x480 with 1 Axes>"
      ]
     },
     "metadata": {},
     "output_type": "display_data"
    },
    {
     "name": "stdout",
     "output_type": "stream",
     "text": [
      "Начало: 15.0\t Конец:31.0\n",
      "Начало: 31.0\t Конец:47.0\n",
      "Начало: 47.0\t Конец:63.0\n",
      "Начало: 63.0\t Конец:79.0\n",
      "Начало: 79.0\t Конец:95.0\n",
      "Начало: 95.0\t Конец:111.0\n",
      "Начало: 111.0\t Конец:127.0\n",
      "Начало: 127.0\t Конец:143.0\n",
      "Начало: 143.0\t Конец:159.0\n"
     ]
    }
   ],
   "source": [
    "num_bins = 9\n",
    "hist, bins = np.histogram(data, bins=num_bins)\n",
    "plt.hist(variation_series, bins=num_bins, edgecolor='black')\n",
    "plt.title('Гистограмма частот')\n",
    "plt.xlabel('x', ha='right', x=1.0)\n",
    "plt.ylabel('n/h', va='top', y=1.0)\n",
    "plt.gca().yaxis.get_label().set_rotation(0)\n",
    "plt.show()\n",
    "for i in range(len(bins)-1):\n",
    "   print(f\"Начало: {bins[i]}\\t Конец:{bins[i+1]}\")"
   ]
  },
  {
   "cell_type": "markdown",
   "metadata": {},
   "source": [
    "<h3>Полигон приведенных частот группированной выборки</h3>"
   ]
  },
  {
   "cell_type": "code",
   "execution_count": 73,
   "metadata": {},
   "outputs": [
    {
     "data": {
      "image/png": "[encoded data removed]",
      "text/plain": [
       "<Figure size 640x480 with 1 Axes>"
      ]
     },
     "metadata": {},
     "output_type": "display_data"
    }
   ],
   "source": [
    "bin_centers = (bins[:-1] + bins[1:]) / 2\n",
    "plt.plot(bin_centers, hist, marker='o', linestyle='-')\n",
    "plt.title('Полигон частот')\n",
    "plt.xlabel('x', ha='right', x=1.0)\n",
    "plt.ylabel('n', va='top', y=1.0)\n",
    "plt.gca().yaxis.get_label().set_rotation(0)\n",
    "plt.show()"
   ]
  }
 ],
 "metadata": {
  "kernelspec": {
   "display_name": "Python 3",
   "language": "python",
   "name": "python3"
  },
  "language_info": {
   "codemirror_mode": {
    "name": "ipython",
    "version": 3
   },
   "file_extension": ".py",
   "mimetype": "text/x-python",
   "name": "python",
   "nbconvert_exporter": "python",
   "pygments_lexer": "ipython3",
   "version": "3.11.6"
  }
 },
 "nbformat": 4,
 "nbformat_minor": 2
}
