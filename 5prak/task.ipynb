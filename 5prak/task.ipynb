{
 "cells": [
  {
   "cell_type": "markdown",
   "metadata": {},
   "source": [
    "Чем отличается выборочная от исправной"
   ]
  },
  {
   "cell_type": "code",
   "execution_count": 67,
   "metadata": {},
   "outputs": [],
   "source": [
    "import numpy as np\n",
    "import matplotlib.pyplot as plt"
   ]
  },
  {
   "cell_type": "markdown",
   "metadata": {},
   "source": [
    "<h2>Необходимо вычислить</h2>\n",
    "\n",
    "Вариационный ряд, экстремальные значения и размах, оценки математического\n",
    "ожидания и среднеквадратического отклонения, эмпирическую функцию распределения и её\n",
    "график, гистограмму и полигон приведенных частот группированной выборки"
   ]
  },
  {
   "cell_type": "markdown",
   "metadata": {},
   "source": [
    "<h1>Данные</h1>"
   ]
  },
  {
   "cell_type": "code",
   "execution_count": 68,
   "metadata": {},
   "outputs": [],
   "source": [
    "data = np.array([0.41, 1.63, -1.53, -0.20, 0.85, 0.09, 1.54, 0.25, 1.24, -0.26, \n",
    "1.08, 0.42, -0.92, -0.91, 1.15, -0.82, 0.26, 0.96, 1.57, 0.72], dtype=float)"
   ]
  },
  {
   "cell_type": "markdown",
   "metadata": {},
   "source": [
    "<h1>Вариационный ряд</h1>"
   ]
  },
  {
   "cell_type": "code",
   "execution_count": 69,
   "metadata": {},
   "outputs": [
    {
     "data": {
      "text/plain": [
       "array([-1.53, -0.92, -0.91, -0.82, -0.26, -0.2 ,  0.09,  0.25,  0.26,\n",
       "        0.41,  0.42,  0.72,  0.85,  0.96,  1.08,  1.15,  1.24,  1.54,\n",
       "        1.57,  1.63])"
      ]
     },
     "execution_count": 69,
     "metadata": {},
     "output_type": "execute_result"
    }
   ],
   "source": [
    "variation_series = np.sort(data)\n",
    "\n",
    "variation_series"
   ]
  },
  {
   "cell_type": "markdown",
   "metadata": {},
   "source": [
    "<h1>Экстремальные значения и размах</h1>"
   ]
  },
  {
   "cell_type": "code",
   "execution_count": 70,
   "metadata": {},
   "outputs": [
    {
     "name": "stdout",
     "output_type": "stream",
     "text": [
      "Максимальное значение:  1.63\n",
      "Минимальное значение:  -1.53\n",
      "Размах:  3.16\n"
     ]
    }
   ],
   "source": [
    "max_value = np.max(data)\n",
    "min_value = np.min(data)\n",
    "spread = max_value - min_value\n",
    "\n",
    "print(\"Максимальное значение: \", max_value)\n",
    "print(\"Минимальное значение: \", min_value)\n",
    "print(\"Размах: \", spread)"
   ]
  },
  {
   "cell_type": "markdown",
   "metadata": {},
   "source": [
    "<h1>Математическое ожидание</h1>\n",
    "<h3>Статистичиский ряд</h3>"
   ]
  },
  {
   "cell_type": "code",
   "execution_count": 71,
   "metadata": {},
   "outputs": [
    {
     "name": "stdout",
     "output_type": "stream",
     "text": [
      "Статистический ряд:  [[-1.53  1.  ]\n",
      " [-0.92  1.  ]\n",
      " [-0.91  1.  ]\n",
      " [-0.82  1.  ]\n",
      " [-0.26  1.  ]\n",
      " [-0.2   1.  ]\n",
      " [ 0.09  1.  ]\n",
      " [ 0.25  1.  ]\n",
      " [ 0.26  1.  ]\n",
      " [ 0.41  1.  ]\n",
      " [ 0.42  1.  ]\n",
      " [ 0.72  1.  ]\n",
      " [ 0.85  1.  ]\n",
      " [ 0.96  1.  ]\n",
      " [ 1.08  1.  ]\n",
      " [ 1.15  1.  ]\n",
      " [ 1.24  1.  ]\n",
      " [ 1.54  1.  ]\n",
      " [ 1.57  1.  ]\n",
      " [ 1.63  1.  ]]\n"
     ]
    },
    {
     "data": {
      "text/plain": [
       "0.3765"
      ]
     },
     "execution_count": 71,
     "metadata": {},
     "output_type": "execute_result"
    }
   ],
   "source": [
    "unique_elements, counts = np.unique(variation_series, return_counts=True)\n",
    "statistical_series = np.array([[key, value] for key, value in zip(unique_elements, counts)])\n",
    "\n",
    "mean = round(sum(x * n for x, n in statistical_series) / sum(n for _, n in statistical_series), 5)\n",
    "\n",
    "print(\"Статистический ряд: \", statistical_series)\n",
    "mean\n"
   ]
  },
  {
   "cell_type": "markdown",
   "metadata": {},
   "source": [
    "<h1>Среднеквадратическое отклонение </h1>\n",
    "<h3>Выборочная дисперсия</h3>"
   ]
  },
  {
   "cell_type": "code",
   "execution_count": 73,
   "metadata": {},
   "outputs": [
    {
     "name": "stdout",
     "output_type": "stream",
     "text": [
      "Дисперсия:  0.80627\n",
      "Среднеквадратическое отклонение:  0.89793\n"
     ]
    }
   ],
   "source": [
    "dispersion = round(sum(((x-mean)**2) * n for x, n in statistical_series) / sum(n for _, n in statistical_series), 5  )\n",
    "standart_deviation = round(np.sqrt(dispersion),5)\n",
    "print(\"Дисперсия: \", dispersion)\n",
    "print(\"Среднеквадратическое отклонение: \", standart_deviation)\n"
   ]
  },
  {
   "cell_type": "markdown",
   "metadata": {},
   "source": [
    "<h1>Эмперическая функция распределения</h1>\n",
    "<h3>График</h3>"
   ]
  },
  {
   "cell_type": "code",
   "execution_count": null,
   "metadata": {},
   "outputs": [],
   "source": []
  }
 ],
 "metadata": {
  "kernelspec": {
   "display_name": "Python 3",
   "language": "python",
   "name": "python3"
  },
  "language_info": {
   "codemirror_mode": {
    "name": "ipython",
    "version": 3
   },
   "file_extension": ".py",
   "mimetype": "text/x-python",
   "name": "python",
   "nbconvert_exporter": "python",
   "pygments_lexer": "ipython3",
   "version": "3.11.6"
  }
 },
 "nbformat": 4,
 "nbformat_minor": 2
}
