{
 "cells": [
  {
   "cell_type": "code",
   "execution_count": 16,
   "metadata": {},
   "outputs": [],
   "source": [
    "import numpy as np\n",
    "import matplotlib.pyplot as plt"
   ]
  },
  {
   "cell_type": "markdown",
   "metadata": {},
   "source": [
    "<h1>МОЙ 12 вариант</h1>"
   ]
  },
  {
   "cell_type": "code",
   "execution_count": 98,
   "metadata": {},
   "outputs": [],
   "source": [
    "my = [1, 8, 20, 28, 20, 7, 14, 2]\n",
    "mx = [8, 16, 18, 30, 18, 10] \n",
    "x = [10,13,16,19,22,25]\n",
    "y = [110, 130, 150, 170, 190, 210, 230, 250]\n",
    "mij = [[1, 3, 4, 0, 0, 0, 0, 0], [0, 5, 6, 5, 0, 0, 0, 0], [0, 0, 4, 8, 6, 0, 0, 0], \n",
    "[0, 0, 6, 15, 9, 0, 0, 0], [0, 0, 0, 0, 5, 6, 7, 0], [0, 0, 0, 0, 0, 1, 7, 2]]\n",
    "n = 100"
   ]
  },
  {
   "cell_type": "markdown",
   "metadata": {},
   "source": [
    "<h1>ПРИМЕР</h1>"
   ]
  },
  {
   "cell_type": "code",
   "execution_count": 94,
   "metadata": {},
   "outputs": [],
   "source": [
    "my = [2, 4, 9, 24, 26, 19, 11, 5]\n",
    "mx = [23, 25, 26, 13, 8, 5] \n",
    "x = [60, 90, 120, 150, 180, 210]\n",
    "y = [4.5, 6, 7.5, 9, 10.5, 12, 13.5, 15]\n",
    "mij = [[2, 4, 3, 10, 4, 0, 0, 0], [0, 0, 6, 14, 5, 0, 0, 0],\n",
    "[0, 0, 0, 0, 17, 5, 4, 0], [0, 0, 0, 0, 0, 8, 3, 2], [0, 0, 0, 0, 0, 4, 3, 1], [0, 0, 0, 0, 0, 2, 1, 2]]"
   ]
  },
  {
   "cell_type": "code",
   "execution_count": 14,
   "metadata": {},
   "outputs": [
    {
     "data": {
      "text/plain": [
       "100"
      ]
     },
     "execution_count": 14,
     "metadata": {},
     "output_type": "execute_result"
    }
   ],
   "source": [
    "np.sum(mx)"
   ]
  },
  {
   "cell_type": "code",
   "execution_count": 48,
   "metadata": {},
   "outputs": [
    {
     "name": "stdout",
     "output_type": "stream",
     "text": [
      "8: 80\n",
      "16: 208\n",
      "18: 288\n",
      "30: 570\n",
      "18: 396\n",
      "10: 250\n",
      "\n",
      "\n",
      "1: 110\n",
      "8: 1040\n",
      "20: 3000\n",
      "28: 4760\n",
      "20: 3800\n",
      "7: 1470\n",
      "14: 3220\n",
      "2: 500\n",
      "1792 17900\n"
     ]
    }
   ],
   "source": [
    "sumx = 0\n",
    "sumy = 0\n",
    "for i in range(len(x)):\n",
    "   sumx+=(mx[i]*x[i])\n",
    "   print(f\"{mx[i]}: {mx[i]*x[i]}\")\n",
    "print(\"\\n\")\n",
    "for i in range(len(y)):\n",
    "   sumy+=(my[i]*y[i])\n",
    "   print(f\"{my[i]}: {my[i]*y[i]}\")\n",
    "\n",
    "print(sumx, sumy)"
   ]
  },
  {
   "cell_type": "code",
   "execution_count": 41,
   "metadata": {},
   "outputs": [
    {
     "name": "stdout",
     "output_type": "stream",
     "text": [
      "331880\n"
     ]
    }
   ],
   "source": [
    "ans = 0\n",
    "for i in range(6):\n",
    "   tmp = 0\n",
    "   for j in range(8):\n",
    "      tmp+=mij[i][j]*y[j]\n",
    "   ans+=(x[i]*tmp)\n",
    "print(ans)"
   ]
  },
  {
   "cell_type": "code",
   "execution_count": 42,
   "metadata": {},
   "outputs": [
    {
     "name": "stdout",
     "output_type": "stream",
     "text": [
      "33904\n",
      "3302800\n"
     ]
    }
   ],
   "source": [
    "ans = 0\n",
    "for i in range(6):\n",
    "   ans+=(mx[i]*(x[i]**2))\n",
    "print(ans)\n",
    "ans = 0\n",
    "\n",
    "for j in range(8):\n",
    "   ans+=(my[j]*(y[j]**2))\n",
    "print(ans)"
   ]
  },
  {
   "cell_type": "code",
   "execution_count": 44,
   "metadata": {},
   "outputs": [
    {
     "data": {
      "text/plain": [
       "996.969696969697"
      ]
     },
     "execution_count": 44,
     "metadata": {},
     "output_type": "execute_result"
    }
   ],
   "source": [
    "(3302800-(17900**2)/100)/99"
   ]
  },
  {
   "cell_type": "code",
   "execution_count": 55,
   "metadata": {},
   "outputs": [
    {
     "name": "stdout",
     "output_type": "stream",
     "text": [
      "0: 10\n",
      "1: 95\n",
      "2: 296\n",
      "3: 478\n",
      "4: 377\n",
      "5: 157\n",
      "6: 329\n",
      "7: 50\n"
     ]
    },
    {
     "data": {
      "text/plain": [
       "1792"
      ]
     },
     "execution_count": 55,
     "metadata": {},
     "output_type": "execute_result"
    }
   ],
   "source": [
    "ans = 0\n",
    "for j in range(8):\n",
    "      tmp = 0\n",
    "      for i in range(6):\n",
    "            tmp+=mij[i][j]*x[i]\n",
    "      ans+=tmp\n",
    "      print(f\"{j}: {tmp}\")\n",
    "ans\n"
   ]
  },
  {
   "cell_type": "code",
   "execution_count": 69,
   "metadata": {},
   "outputs": [
    {
     "name": "stdout",
     "output_type": "stream",
     "text": [
      "0: 1100\n",
      "1: 2400\n",
      "2: 3100\n",
      "3: 5160\n",
      "4: 3820\n",
      "5: 2320\n"
     ]
    },
    {
     "data": {
      "text/plain": [
       "17900"
      ]
     },
     "execution_count": 69,
     "metadata": {},
     "output_type": "execute_result"
    }
   ],
   "source": [
    "ans = 0\n",
    "for i in range(6):\n",
    "      tmp = 0\n",
    "      for j in range(8):\n",
    "            tmp+=mij[i][j]*y[j]\n",
    "      ans+=tmp\n",
    "      print(f\"{i}: {tmp}\")\n",
    "ans"
   ]
  },
  {
   "cell_type": "code",
   "execution_count": 80,
   "metadata": {},
   "outputs": [
    {
     "name": "stdout",
     "output_type": "stream",
     "text": [
      "0: 800\n",
      "1: 2704\n",
      "2: 4608\n",
      "3: 10830\n",
      "4: 8712\n",
      "5: 6250\n"
     ]
    },
    {
     "data": {
      "text/plain": [
       "33904"
      ]
     },
     "execution_count": 80,
     "metadata": {},
     "output_type": "execute_result"
    }
   ],
   "source": [
    "ans = 0\n",
    "for i in range(6):\n",
    "      tmp = 0\n",
    "      tmp+=((x[i]**2)*mx[i])\n",
    "      ans+=tmp\n",
    "      print(f\"{i}: {tmp}\")\n",
    "ans"
   ]
  },
  {
   "cell_type": "code",
   "execution_count": 85,
   "metadata": {},
   "outputs": [
    {
     "name": "stdout",
     "output_type": "stream",
     "text": [
      "0: 12100\n",
      "1: 135200\n",
      "2: 450000\n",
      "3: 809200\n",
      "4: 722000\n",
      "5: 308700\n",
      "6: 740600\n",
      "7: 125000\n"
     ]
    },
    {
     "data": {
      "text/plain": [
       "3302800"
      ]
     },
     "execution_count": 85,
     "metadata": {},
     "output_type": "execute_result"
    }
   ],
   "source": [
    "ans = 0\n",
    "for j in range(8):\n",
    "      tmp = 0\n",
    "      tmp+=((y[j]**2)*my[j])\n",
    "      ans+=tmp\n",
    "      print(f\"{j}: {tmp}\")\n",
    "ans"
   ]
  },
  {
   "cell_type": "code",
   "execution_count": 96,
   "metadata": {},
   "outputs": [
    {
     "name": "stdout",
     "output_type": "stream",
     "text": [
      "0: 540.0\n",
      "1: 1440\n",
      "2: 5400.0\n",
      "3: 16740\n",
      "4: 28665.0\n",
      "5: 35280\n",
      "6: 22680.0\n",
      "7: 13500\n"
     ]
    },
    {
     "data": {
      "text/plain": [
       "124245.0"
      ]
     },
     "execution_count": 96,
     "metadata": {},
     "output_type": "execute_result"
    }
   ],
   "source": [
    "ans = 0\n",
    "for j in range(8):\n",
    "      tmp = 0\n",
    "      for i in range(6):\n",
    "            tmp+=mij[i][j]*x[i]\n",
    "      tmp*=y[j]\n",
    "      ans+=tmp\n",
    "      print(f\"{j}: {tmp}\")\n",
    "ans\n"
   ]
  },
  {
   "cell_type": "code",
   "execution_count": 99,
   "metadata": {},
   "outputs": [
    {
     "name": "stdout",
     "output_type": "stream",
     "text": [
      "0: 11000\n",
      "1: 31200\n",
      "2: 49600\n",
      "3: 98040\n",
      "4: 84040\n",
      "5: 58000\n"
     ]
    },
    {
     "data": {
      "text/plain": [
       "331880"
      ]
     },
     "execution_count": 99,
     "metadata": {},
     "output_type": "execute_result"
    }
   ],
   "source": [
    "ans = 0\n",
    "for i in range(6):\n",
    "      tmp = 0\n",
    "      for j in range(8):\n",
    "            tmp+=mij[i][j]*y[j]\n",
    "      tmp*=x[i]\n",
    "      ans+=tmp\n",
    "      print(f\"{i}: {tmp}\")\n",
    "ans"
   ]
  },
  {
   "cell_type": "code",
   "execution_count": 103,
   "metadata": {},
   "outputs": [
    {
     "data": {
      "text/plain": [
       "0.8365350574819727"
      ]
     },
     "execution_count": 103,
     "metadata": {},
     "output_type": "execute_result"
    }
   ],
   "source": [
    "112.24/(4.25*31.57)"
   ]
  }
 ],
 "metadata": {
  "kernelspec": {
   "display_name": "Python 3",
   "language": "python",
   "name": "python3"
  },
  "language_info": {
   "codemirror_mode": {
    "name": "ipython",
    "version": 3
   },
   "file_extension": ".py",
   "mimetype": "text/x-python",
   "name": "python",
   "nbconvert_exporter": "python",
   "pygments_lexer": "ipython3",
   "version": "3.11.6"
  }
 },
 "nbformat": 4,
 "nbformat_minor": 2
}
